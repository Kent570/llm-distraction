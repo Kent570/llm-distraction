{
 "cells": [
  {
   "cell_type": "code",
   "execution_count": 98,
   "metadata": {},
   "outputs": [],
   "source": [
    "import json\n",
    "import re\n",
    "import csv\n",
    "import os\n",
    "\n",
    "def extract_answer(response):\n",
    "    \"\"\"Extract the final numeric answer from a given response text.\"\"\"\n",
    "    match = re.findall(r'[\\d,]+', response)\n",
    "    if match:\n",
    "        cleaned_number = match[-1].replace(',', '')  # Remove commas\n",
    "        try:\n",
    "            return int(cleaned_number)\n",
    "        except ValueError:\n",
    "            print(f\"Warning: Unable to convert '{cleaned_number}' to an integer.\")\n",
    "            return None\n",
    "    else:\n",
    "        print(\"Warning: No numeric answer found in the response.\")\n",
    "    return None\n",
    "\n",
    "def calculate_micro_accuracy(data):\n",
    "    \"\"\"Calculate micro accuracy based on original_response.\"\"\"\n",
    "    correct_count = 0\n",
    "    total_count = len(data)\n",
    "\n",
    "    for entry in data:\n",
    "        expected_answer = int(str(entry[\"answer\"]).replace(\",\", \"\"))\n",
    "        original_response_answer = extract_answer(entry[\"original_response\"])\n",
    "\n",
    "        if original_response_answer == expected_answer:\n",
    "            correct_count += 1\n",
    "\n",
    "    return (correct_count / total_count * 100) if total_count > 0 else 0\n",
    "\n",
    "def calculate_macro_accuracy(data):\n",
    "    \"\"\"Calculate macro accuracy based on the consistency of new_response for each unique base problem (id).\"\"\"\n",
    "    base_problem_groups = {}\n",
    "\n",
    "    # Group entries by base id\n",
    "    for entry in data:\n",
    "        base_id = entry[\"id\"]\n",
    "        expected_answer = int(str(entry[\"answer\"]).replace(\",\", \"\"))\n",
    "        new_response_answer = extract_answer(entry[\"new_response\"])\n",
    "\n",
    "        # Initialize group if not already in dictionary\n",
    "        if base_id not in base_problem_groups:\n",
    "            base_problem_groups[base_id] = {\"expected_answer\": expected_answer, \"all_correct\": True}\n",
    "\n",
    "        # Check if the current answer is correct for this variant\n",
    "        if new_response_answer != expected_answer:\n",
    "            base_problem_groups[base_id][\"all_correct\"] = False\n",
    "\n",
    "    # Calculate macro accuracy as the percentage of fully correct base problems\n",
    "    macro_correct = sum(1 for group in base_problem_groups.values() if group[\"all_correct\"])\n",
    "    macro_total = len(base_problem_groups)\n",
    "\n",
    "    return (macro_correct / macro_total * 100) if macro_total > 0 else 0\n",
    "\n",
    "def calculate_and_save_accuracies(input_json, output_csv, method_type, context):\n",
    "    # Load data and calculate micro and macro accuracy\n",
    "    with open(input_json, 'r') as file:\n",
    "        data = json.load(file)\n",
    "\n",
    "    micro_accuracy = calculate_micro_accuracy(data)\n",
    "    macro_accuracy = calculate_macro_accuracy(data)\n",
    "\n",
    "    # Check if CSV exists, and append if it does; otherwise, create a new file\n",
    "    file_exists = os.path.isfile(output_csv)\n",
    "\n",
    "    with open(output_csv, 'a', newline='') as csvfile:\n",
    "        writer = csv.writer(csvfile)\n",
    "        \n",
    "        # Write headers only if the file is new\n",
    "        if not file_exists:\n",
    "            writer.writerow([\"File\", \"Method\", \"Context\", \"Micro Accuracy (%)\", \"Macro Accuracy (%)\"])\n",
    "        \n",
    "        # Write the accuracy results\n",
    "        writer.writerow([os.path.basename(input_json), method_type, context, f\"{micro_accuracy:.2f}\", f\"{macro_accuracy:.2f}\"])\n",
    "\n",
    "    print(f\"Micro Accuracy for {method_type} - {context}: {micro_accuracy:.2f}%\")\n",
    "    print(f\"Macro Accuracy for {method_type} - {context}: {macro_accuracy:.2f}%\")\n",
    "\n",
    "# Example usage:\n",
    "# calculate_and_save_accuracies(\n",
    "#     \"path/to/data.json\",\n",
    "#     \"path/to/output_accuracy_summary.csv\",\n",
    "#     method_type=\"LTM\",\n",
    "#     context=\"Role Overlap: Yes\"\n",
    "# )\n"
   ]
  },
  {
   "cell_type": "code",
   "execution_count": 99,
   "metadata": {},
   "outputs": [
    {
     "name": "stdout",
     "output_type": "stream",
     "text": [
      "Micro Accuracy for CoT - Overall 2: 92.00%\n",
      "Macro Accuracy for CoT - Overall 2: 87.00%\n"
     ]
    }
   ],
   "source": [
    "# CoT 0-shot accuracy w/ 2 steps\n",
    "calculate_and_save_accuracies(\"/Users/byfoot/Desktop/ECE570/reimplement/results/overall_result_CoT_2.json\",\n",
    "                              \"/Users/byfoot/Desktop/ECE570/reimplement/csvs/analyze.csv\",\n",
    "                              method_type=\"CoT\",\n",
    "                              context=\"Overall 2\")"
   ]
  },
  {
   "cell_type": "code",
   "execution_count": 100,
   "metadata": {},
   "outputs": [
    {
     "name": "stdout",
     "output_type": "stream",
     "text": [
      "Warning: Unable to convert '' to an integer.\n",
      "Warning: Unable to convert '' to an integer.\n",
      "Micro Accuracy for LTM - Overall 2: 86.00%\n",
      "Macro Accuracy for LTM - Overall 2: 82.00%\n"
     ]
    }
   ],
   "source": [
    "# LTM 0-shot accuracy w/ 2 steps\n",
    "calculate_and_save_accuracies(\"/Users/byfoot/Desktop/ECE570/reimplement/results/overall_result_LTM_2.json\",\n",
    "                              \"/Users/byfoot/Desktop/ECE570/reimplement/csvs/analyze.csv\",\n",
    "                              method_type=\"LTM\",\n",
    "                              context=\"Overall 2\")"
   ]
  },
  {
   "cell_type": "code",
   "execution_count": 101,
   "metadata": {},
   "outputs": [
    {
     "name": "stdout",
     "output_type": "stream",
     "text": [
      "Warning: Unable to convert '' to an integer.\n",
      "Warning: Unable to convert '' to an integer.\n",
      "Warning: Unable to convert '' to an integer.\n",
      "Warning: Unable to convert '' to an integer.\n",
      "Micro Accuracy for Python - Overall 2: 80.00%\n",
      "Macro Accuracy for Python - Overall 2: 76.00%\n"
     ]
    }
   ],
   "source": [
    "# Python 0-shot accuracy w/ 2 steps\n",
    "calculate_and_save_accuracies(\"/Users/byfoot/Desktop/ECE570/reimplement/results/overall_result_Python_2.json\",\n",
    "                              \"/Users/byfoot/Desktop/ECE570/reimplement/csvs/analyze.csv\",\n",
    "                              method_type=\"Python\",\n",
    "                              context=\"Overall 2\")"
   ]
  },
  {
   "cell_type": "code",
   "execution_count": 102,
   "metadata": {},
   "outputs": [
    {
     "name": "stdout",
     "output_type": "stream",
     "text": [
      "Micro Accuracy for CoT - Overall m: 95.00%\n",
      "Macro Accuracy for CoT - Overall m: 95.00%\n"
     ]
    }
   ],
   "source": [
    "# CoT 0-shot accuracy w/ m steps\n",
    "calculate_and_save_accuracies(\"/Users/byfoot/Desktop/ECE570/reimplement/results/overall_result_CoT.json\",\n",
    "                              \"/Users/byfoot/Desktop/ECE570/reimplement/csvs/analyze.csv\",\n",
    "                              method_type=\"CoT\",\n",
    "                              context=\"Overall m\")"
   ]
  },
  {
   "cell_type": "code",
   "execution_count": 103,
   "metadata": {},
   "outputs": [
    {
     "name": "stdout",
     "output_type": "stream",
     "text": [
      "Warning: Unable to convert '' to an integer.\n",
      "Warning: Unable to convert '' to an integer.\n",
      "Warning: Unable to convert '' to an integer.\n",
      "Warning: Unable to convert '' to an integer.\n",
      "Micro Accuracy for LTM - Overall m: 89.00%\n",
      "Macro Accuracy for LTM - Overall m: 94.00%\n"
     ]
    }
   ],
   "source": [
    "# LTM 0-shot accuracy w/ m steps\n",
    "calculate_and_save_accuracies(\"/Users/byfoot/Desktop/ECE570/reimplement/results/overall_result_LTM.json\",\n",
    "                              \"/Users/byfoot/Desktop/ECE570/reimplement/csvs/analyze.csv\",\n",
    "                              method_type=\"LTM\",\n",
    "                              context=\"Overall m\")"
   ]
  },
  {
   "cell_type": "code",
   "execution_count": 104,
   "metadata": {},
   "outputs": [
    {
     "name": "stdout",
     "output_type": "stream",
     "text": [
      "Warning: Unable to convert '' to an integer.\n",
      "Warning: Unable to convert '' to an integer.\n",
      "Micro Accuracy for Python - Overall m: 95.00%\n",
      "Macro Accuracy for Python - Overall m: 91.00%\n"
     ]
    }
   ],
   "source": [
    "# Python 0-shot accuracy w/ m steps\n",
    "calculate_and_save_accuracies(\"/Users/byfoot/Desktop/ECE570/reimplement/results/overall_result_Python.json\",\n",
    "                              \"/Users/byfoot/Desktop/ECE570/reimplement/csvs/analyze.csv\",\n",
    "                              method_type=\"Python\",\n",
    "                              context=\"Overall m\")"
   ]
  },
  {
   "cell_type": "code",
   "execution_count": 105,
   "metadata": {},
   "outputs": [
    {
     "name": "stdout",
     "output_type": "stream",
     "text": [
      "Warning: Unable to convert '' to an integer.\n",
      "Micro Accuracy for LTM - Overall m: 94.00%\n",
      "Macro Accuracy for LTM - Overall m: 87.00%\n"
     ]
    }
   ],
   "source": [
    "# LTM 0-shot accuracy w/ m steps\n",
    "calculate_and_save_accuracies(\"/Users/byfoot/Desktop/ECE570/reimplement/results/overall_result_LTM_instructed_m.json\",\n",
    "                              \"/Users/byfoot/Desktop/ECE570/reimplement/csvs/analyze.csv\",\n",
    "                              method_type=\"LTM\",\n",
    "                              context=\"Overall m\")"
   ]
  },
  {
   "cell_type": "code",
   "execution_count": 106,
   "metadata": {},
   "outputs": [
    {
     "name": "stdout",
     "output_type": "stream",
     "text": [
      "Warning: Unable to convert '' to an integer.\n",
      "Warning: Unable to convert '' to an integer.\n",
      "Micro Accuracy for CoT - Overall m: 91.00%\n",
      "Macro Accuracy for CoT - Overall m: 90.00%\n"
     ]
    }
   ],
   "source": [
    "# CoT 0-shot accuracy w/ m steps\n",
    "calculate_and_save_accuracies(\"/Users/byfoot/Desktop/ECE570/reimplement/results/overall_result_CoT_instructed_m.json\",\n",
    "                              \"/Users/byfoot/Desktop/ECE570/reimplement/csvs/analyze.csv\",\n",
    "                              method_type=\"CoT\",\n",
    "                              context=\"Overall m\")"
   ]
  },
  {
   "cell_type": "code",
   "execution_count": 107,
   "metadata": {},
   "outputs": [
    {
     "name": "stdout",
     "output_type": "stream",
     "text": [
      "Warning: Unable to convert '' to an integer.\n",
      "Warning: Unable to convert '' to an integer.\n",
      "Warning: Unable to convert '' to an integer.\n",
      "Micro Accuracy for CoT - Overall 2: 85.00%\n",
      "Macro Accuracy for CoT - Overall 2: 84.00%\n"
     ]
    }
   ],
   "source": [
    "# CoT 0-shot accuracy w/ 2 steps\n",
    "calculate_and_save_accuracies(\"/Users/byfoot/Desktop/ECE570/reimplement/results/overall_result_CoT_instructed_2.json\",\n",
    "                              \"/Users/byfoot/Desktop/ECE570/reimplement/csvs/analyze.csv\",\n",
    "                              method_type=\"CoT\",\n",
    "                              context=\"Overall 2\")"
   ]
  },
  {
   "cell_type": "code",
   "execution_count": 108,
   "metadata": {},
   "outputs": [
    {
     "name": "stdout",
     "output_type": "stream",
     "text": [
      "Micro Accuracy for LTM - Overall 2: 81.00%\n",
      "Macro Accuracy for LTM - Overall 2: 83.00%\n"
     ]
    }
   ],
   "source": [
    "# LTM 0-shot accuracy w/ 2 steps\n",
    "calculate_and_save_accuracies(\"/Users/byfoot/Desktop/ECE570/reimplement/results/overall_result_LTM_instructed_2.json\",\n",
    "                              \"/Users/byfoot/Desktop/ECE570/reimplement/csvs/analyze.csv\",\n",
    "                              method_type=\"LTM\",\n",
    "                              context=\"Overall 2\")"
   ]
  },
  {
   "cell_type": "code",
   "execution_count": 109,
   "metadata": {},
   "outputs": [
    {
     "name": "stdout",
     "output_type": "stream",
     "text": [
      "Micro Accuracy for Python - Overall 2: 85.00%\n",
      "Macro Accuracy for Python - Overall 2: 82.00%\n"
     ]
    }
   ],
   "source": [
    "# Python 0-shot accuracy w/ 2 steps\n",
    "calculate_and_save_accuracies(\"/Users/byfoot/Desktop/ECE570/reimplement/results/overall_result_Python_instructed_2.json\",\n",
    "                              \"/Users/byfoot/Desktop/ECE570/reimplement/csvs/analyze.csv\",\n",
    "                              method_type=\"Python\",\n",
    "                              context=\"Overall 2\")"
   ]
  },
  {
   "cell_type": "code",
   "execution_count": 110,
   "metadata": {},
   "outputs": [
    {
     "name": "stdout",
     "output_type": "stream",
     "text": [
      "Warning: Unable to convert '' to an integer.\n",
      "Micro Accuracy for Python - Overall m: 95.00%\n",
      "Macro Accuracy for Python - Overall m: 95.00%\n"
     ]
    }
   ],
   "source": [
    "# Python 0-shot accuracy w/ 2 steps\n",
    "calculate_and_save_accuracies(\"/Users/byfoot/Desktop/ECE570/reimplement/results/overall_result_Python_instructed_m.json\",\n",
    "                              \"/Users/byfoot/Desktop/ECE570/reimplement/csvs/analyze.csv\",\n",
    "                              method_type=\"Python\",\n",
    "                              context=\"Overall m\")"
   ]
  },
  {
   "cell_type": "code",
   "execution_count": 111,
   "metadata": {},
   "outputs": [
    {
     "name": "stdout",
     "output_type": "stream",
     "text": [
      "Warning: Unable to convert '' to an integer.\n",
      "Warning: Unable to convert '' to an integer.\n",
      "Warning: Unable to convert '' to an integer.\n",
      "Warning: Unable to convert '' to an integer.\n",
      "Warning: Unable to convert '' to an integer.\n",
      "Micro Accuracy for Python - Overall m: 86.00%\n",
      "Macro Accuracy for Python - Overall m: 85.00%\n"
     ]
    }
   ],
   "source": [
    "calculate_and_save_accuracies(\"/Users/byfoot/Desktop/ECE570/reimplement/results/overall_result_Python_in_range_m.json\",\n",
    "                              \"/Users/byfoot/Desktop/ECE570/reimplement/csvs/analyze.csv\",\n",
    "                              method_type=\"Python\",\n",
    "                              context=\"Overall m\")"
   ]
  },
  {
   "cell_type": "code",
   "execution_count": 112,
   "metadata": {},
   "outputs": [
    {
     "name": "stdout",
     "output_type": "stream",
     "text": [
      "Warning: Unable to convert '' to an integer.\n",
      "Warning: Unable to convert '' to an integer.\n",
      "Warning: Unable to convert '' to an integer.\n",
      "Micro Accuracy for Python - Overall m: 83.00%\n",
      "Macro Accuracy for Python - Overall m: 76.00%\n"
     ]
    }
   ],
   "source": [
    "calculate_and_save_accuracies(\"/Users/byfoot/Desktop/ECE570/reimplement/results/overall_result_Python_out_range_m.json\",\n",
    "                              \"/Users/byfoot/Desktop/ECE570/reimplement/csvs/analyze.csv\",\n",
    "                              method_type=\"Python\",\n",
    "                              context=\"Overall m\")"
   ]
  },
  {
   "cell_type": "code",
   "execution_count": 113,
   "metadata": {},
   "outputs": [
    {
     "name": "stdout",
     "output_type": "stream",
     "text": [
      "Micro Accuracy for Python - Overall m: 98.00%\n",
      "Macro Accuracy for Python - Overall m: 96.00%\n"
     ]
    }
   ],
   "source": [
    "calculate_and_save_accuracies(\"/Users/byfoot/Desktop/ECE570/reimplement/results/overall_result_CoT_out_range_m.json\",\n",
    "                              \"/Users/byfoot/Desktop/ECE570/reimplement/csvs/analyze.csv\",\n",
    "                              method_type=\"Python\",\n",
    "                              context=\"Overall m\")"
   ]
  },
  {
   "cell_type": "code",
   "execution_count": 114,
   "metadata": {},
   "outputs": [
    {
     "name": "stdout",
     "output_type": "stream",
     "text": [
      "Warning: Unable to convert '' to an integer.\n",
      "Micro Accuracy for Python - Overall m: 98.00%\n",
      "Macro Accuracy for Python - Overall m: 95.00%\n"
     ]
    }
   ],
   "source": [
    "calculate_and_save_accuracies(\"/Users/byfoot/Desktop/ECE570/reimplement/results/overall_result_CoT_in_range_m.json\",\n",
    "                              \"/Users/byfoot/Desktop/ECE570/reimplement/csvs/analyze.csv\",\n",
    "                              method_type=\"Python\",\n",
    "                              context=\"Overall m\")"
   ]
  },
  {
   "cell_type": "code",
   "execution_count": 115,
   "metadata": {},
   "outputs": [
    {
     "name": "stdout",
     "output_type": "stream",
     "text": [
      "Warning: Unable to convert '' to an integer.\n",
      "Micro Accuracy for Python - Overall m: 97.00%\n",
      "Macro Accuracy for Python - Overall m: 99.00%\n"
     ]
    }
   ],
   "source": [
    "calculate_and_save_accuracies(\"/Users/byfoot/Desktop/ECE570/reimplement/results/overall_result_LTM_out_range_m.json\",\n",
    "                              \"/Users/byfoot/Desktop/ECE570/reimplement/csvs/analyze.csv\",\n",
    "                              method_type=\"Python\",\n",
    "                              context=\"Overall m\")"
   ]
  },
  {
   "cell_type": "code",
   "execution_count": 116,
   "metadata": {},
   "outputs": [
    {
     "name": "stdout",
     "output_type": "stream",
     "text": [
      "Micro Accuracy for Python - Overall m: 98.00%\n",
      "Macro Accuracy for Python - Overall m: 94.00%\n"
     ]
    }
   ],
   "source": [
    "calculate_and_save_accuracies(\"/Users/byfoot/Desktop/ECE570/reimplement/results/overall_result_LTM_in_range_m.json\",\n",
    "                              \"/Users/byfoot/Desktop/ECE570/reimplement/csvs/analyze.csv\",\n",
    "                              method_type=\"Python\",\n",
    "                              context=\"Overall m\")"
   ]
  },
  {
   "cell_type": "code",
   "execution_count": 117,
   "metadata": {},
   "outputs": [
    {
     "name": "stdout",
     "output_type": "stream",
     "text": [
      "Warning: Unable to convert '' to an integer.\n",
      "Warning: Unable to convert '' to an integer.\n",
      "Warning: Unable to convert '' to an integer.\n",
      "Warning: Unable to convert '' to an integer.\n",
      "Micro Accuracy for Python - Overall m: 85.00%\n",
      "Macro Accuracy for Python - Overall m: 85.00%\n"
     ]
    }
   ],
   "source": [
    "calculate_and_save_accuracies(\"/Users/byfoot/Desktop/ECE570/reimplement/results/overall_result_Python_overlapped_m.json\",\n",
    "                              \"/Users/byfoot/Desktop/ECE570/reimplement/csvs/analyze.csv\",\n",
    "                              method_type=\"Python\",\n",
    "                              context=\"Overall m\")"
   ]
  },
  {
   "cell_type": "code",
   "execution_count": 118,
   "metadata": {},
   "outputs": [
    {
     "name": "stdout",
     "output_type": "stream",
     "text": [
      "Warning: Unable to convert '' to an integer.\n",
      "Micro Accuracy for Python - Overall m: 86.00%\n",
      "Macro Accuracy for Python - Overall m: 86.00%\n"
     ]
    }
   ],
   "source": [
    "calculate_and_save_accuracies(\"/Users/byfoot/Desktop/ECE570/reimplement/results/overall_result_Python_nonoverlapped_m.json\",\n",
    "                              \"/Users/byfoot/Desktop/ECE570/reimplement/csvs/analyze.csv\",\n",
    "                              method_type=\"Python\",\n",
    "                              context=\"Overall m\")"
   ]
  },
  {
   "cell_type": "code",
   "execution_count": 119,
   "metadata": {},
   "outputs": [
    {
     "name": "stdout",
     "output_type": "stream",
     "text": [
      "Micro Accuracy for Python - Overall m: 96.00%\n",
      "Macro Accuracy for Python - Overall m: 96.00%\n"
     ]
    }
   ],
   "source": [
    "calculate_and_save_accuracies(\"/Users/byfoot/Desktop/ECE570/reimplement/results/overall_result_CoT_overlapped_m.json\",\n",
    "                              \"/Users/byfoot/Desktop/ECE570/reimplement/csvs/analyze.csv\",\n",
    "                              method_type=\"Python\",\n",
    "                              context=\"Overall m\")"
   ]
  },
  {
   "cell_type": "code",
   "execution_count": 120,
   "metadata": {},
   "outputs": [
    {
     "name": "stdout",
     "output_type": "stream",
     "text": [
      "Warning: Unable to convert '' to an integer.\n",
      "Micro Accuracy for Python - Overall m: 95.00%\n",
      "Macro Accuracy for Python - Overall m: 98.00%\n"
     ]
    }
   ],
   "source": [
    "calculate_and_save_accuracies(\"/Users/byfoot/Desktop/ECE570/reimplement/results/overall_result_CoT_nonoverlapped_m.json\",\n",
    "                              \"/Users/byfoot/Desktop/ECE570/reimplement/csvs/analyze.csv\",\n",
    "                              method_type=\"Python\",\n",
    "                              context=\"Overall m\")"
   ]
  },
  {
   "cell_type": "code",
   "execution_count": 121,
   "metadata": {},
   "outputs": [
    {
     "name": "stdout",
     "output_type": "stream",
     "text": [
      "Micro Accuracy for Python - Overall m: 95.00%\n",
      "Macro Accuracy for Python - Overall m: 95.00%\n"
     ]
    }
   ],
   "source": [
    "calculate_and_save_accuracies(\"/Users/byfoot/Desktop/ECE570/reimplement/results/overall_result_LTM_overlapped_m.json\",\n",
    "                              \"/Users/byfoot/Desktop/ECE570/reimplement/csvs/analyze.csv\",\n",
    "                              method_type=\"Python\",\n",
    "                              context=\"Overall m\")"
   ]
  },
  {
   "cell_type": "code",
   "execution_count": 122,
   "metadata": {},
   "outputs": [
    {
     "name": "stdout",
     "output_type": "stream",
     "text": [
      "Warning: Unable to convert '' to an integer.\n",
      "Micro Accuracy for Python - Overall m: 96.00%\n",
      "Macro Accuracy for Python - Overall m: 93.00%\n"
     ]
    }
   ],
   "source": [
    "calculate_and_save_accuracies(\"/Users/byfoot/Desktop/ECE570/reimplement/results/overall_result_LTM_nonoverlapped_m.json\",\n",
    "                              \"/Users/byfoot/Desktop/ECE570/reimplement/csvs/analyze.csv\",\n",
    "                              method_type=\"Python\",\n",
    "                              context=\"Overall m\")"
   ]
  },
  {
   "cell_type": "code",
   "execution_count": 123,
   "metadata": {},
   "outputs": [
    {
     "name": "stdout",
     "output_type": "stream",
     "text": [
      "Warning: Unable to convert '' to an integer.\n",
      "Micro Accuracy for Python - Overall m: 85.00%\n",
      "Macro Accuracy for Python - Overall m: 90.00%\n"
     ]
    }
   ],
   "source": [
    "calculate_and_save_accuracies(\"/Users/byfoot/Desktop/ECE570/reimplement/results/overall_result_Python_in_topic_m.json\",\n",
    "                              \"/Users/byfoot/Desktop/ECE570/reimplement/csvs/analyze.csv\",\n",
    "                              method_type=\"Python\",\n",
    "                              context=\"Overall m\")"
   ]
  },
  {
   "cell_type": "code",
   "execution_count": 124,
   "metadata": {},
   "outputs": [
    {
     "name": "stdout",
     "output_type": "stream",
     "text": [
      "Warning: Unable to convert '' to an integer.\n",
      "Micro Accuracy for Python - Overall m: 94.00%\n",
      "Macro Accuracy for Python - Overall m: 91.00%\n"
     ]
    }
   ],
   "source": [
    "calculate_and_save_accuracies(\"/Users/byfoot/Desktop/ECE570/reimplement/results/overall_result_Python_out_topic_m.json\",\n",
    "                              \"/Users/byfoot/Desktop/ECE570/reimplement/csvs/analyze.csv\",\n",
    "                              method_type=\"Python\",\n",
    "                              context=\"Overall m\")"
   ]
  },
  {
   "cell_type": "code",
   "execution_count": 125,
   "metadata": {},
   "outputs": [
    {
     "name": "stdout",
     "output_type": "stream",
     "text": [
      "Warning: Unable to convert '' to an integer.\n",
      "Micro Accuracy for Python - Overall m: 99.00%\n",
      "Macro Accuracy for Python - Overall m: 97.00%\n"
     ]
    }
   ],
   "source": [
    "calculate_and_save_accuracies(\"/Users/byfoot/Desktop/ECE570/reimplement/results/overall_result_CoT_in_topic_m.json\",\n",
    "                              \"/Users/byfoot/Desktop/ECE570/reimplement/csvs/analyze.csv\",\n",
    "                              method_type=\"Python\",\n",
    "                              context=\"Overall m\")"
   ]
  },
  {
   "cell_type": "code",
   "execution_count": 126,
   "metadata": {},
   "outputs": [
    {
     "name": "stdout",
     "output_type": "stream",
     "text": [
      "Micro Accuracy for Python - Overall m: 97.00%\n",
      "Macro Accuracy for Python - Overall m: 98.00%\n"
     ]
    }
   ],
   "source": [
    "calculate_and_save_accuracies(\"/Users/byfoot/Desktop/ECE570/reimplement/results/overall_result_CoT_out_topic_m.json\",\n",
    "                              \"/Users/byfoot/Desktop/ECE570/reimplement/csvs/analyze.csv\",\n",
    "                              method_type=\"Python\",\n",
    "                              context=\"Overall m\")"
   ]
  },
  {
   "cell_type": "code",
   "execution_count": 127,
   "metadata": {},
   "outputs": [
    {
     "name": "stdout",
     "output_type": "stream",
     "text": [
      "Warning: Unable to convert '' to an integer.\n",
      "Micro Accuracy for Python - Overall m: 96.00%\n",
      "Macro Accuracy for Python - Overall m: 91.00%\n"
     ]
    }
   ],
   "source": [
    "calculate_and_save_accuracies(\"/Users/byfoot/Desktop/ECE570/reimplement/results/overall_result_LTM_in_topic_m.json\",\n",
    "                              \"/Users/byfoot/Desktop/ECE570/reimplement/csvs/analyze.csv\",\n",
    "                              method_type=\"Python\",\n",
    "                              context=\"Overall m\")"
   ]
  },
  {
   "cell_type": "code",
   "execution_count": 128,
   "metadata": {},
   "outputs": [
    {
     "name": "stdout",
     "output_type": "stream",
     "text": [
      "Warning: Unable to convert '' to an integer.\n",
      "Micro Accuracy for Python - Overall m: 97.00%\n",
      "Macro Accuracy for Python - Overall m: 96.00%\n"
     ]
    }
   ],
   "source": [
    "calculate_and_save_accuracies(\"/Users/byfoot/Desktop/ECE570/reimplement/results/overall_result_LTM_out_topic_m.json\",\n",
    "                              \"/Users/byfoot/Desktop/ECE570/reimplement/csvs/analyze.csv\",\n",
    "                              method_type=\"Python\",\n",
    "                              context=\"Overall m\")"
   ]
  }
 ],
 "metadata": {
  "kernelspec": {
   "display_name": "trial",
   "language": "python",
   "name": "python3"
  },
  "language_info": {
   "codemirror_mode": {
    "name": "ipython",
    "version": 3
   },
   "file_extension": ".py",
   "mimetype": "text/x-python",
   "name": "python",
   "nbconvert_exporter": "python",
   "pygments_lexer": "ipython3",
   "version": "3.11.5"
  }
 },
 "nbformat": 4,
 "nbformat_minor": 2
}
